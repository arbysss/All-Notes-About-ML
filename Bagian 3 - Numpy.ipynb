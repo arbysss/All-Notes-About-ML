{
 "cells": [
  {
   "cell_type": "markdown",
   "metadata": {},
   "source": [
    "# Note:\n",
    "* Tipe data Numpy adalah ndarray"
   ]
  },
  {
   "cell_type": "markdown",
   "metadata": {},
   "source": [
    "## 1. DataTypes & Attributes\n",
    "1. Ndarray => tipe data numpy\n",
    "2. Shape => cek jumlah array/baris/kolom\n",
    "3. Ndim => cek jumlah dimensi\n",
    "4. Dtype => cek tipe data dari ndarray\n",
    "5. Size => cek jumlah data ndarray\n",
    "6. Type => cek tipe data secara keseluruhan\n",
    "7. Buat DataFrame dari ndarray (numpy array)"
   ]
  },
  {
   "cell_type": "markdown",
   "metadata": {},
   "source": [
    "## 1.1 Ndarray"
   ]
  },
  {
   "cell_type": "code",
   "execution_count": 10,
   "metadata": {},
   "outputs": [
    {
     "data": {
      "text/plain": [
       "array([1, 2, 3])"
      ]
     },
     "execution_count": 10,
     "metadata": {},
     "output_type": "execute_result"
    }
   ],
   "source": [
    "#Import numpy\n",
    "import numpy as np\n",
    "\n",
    "#buat ndarray (arraynya numpy)\n",
    "a1 = np.array([1, 2, 3])\n",
    "\n",
    "#display ndarray\n",
    "a1"
   ]
  },
  {
   "cell_type": "code",
   "execution_count": 8,
   "metadata": {},
   "outputs": [
    {
     "data": {
      "text/plain": [
       "array([[1. , 2. , 3.3],\n",
       "       [4. , 5. , 6.5]])"
      ]
     },
     "execution_count": 8,
     "metadata": {},
     "output_type": "execute_result"
    }
   ],
   "source": [
    "#buat ndarray\n",
    "a2 = np.array([[1, 2.0, 3.3],\n",
    "               [4, 5, 6.5]])\n",
    "\n",
    "#display ndarray\n",
    "a2"
   ]
  },
  {
   "cell_type": "code",
   "execution_count": 45,
   "metadata": {},
   "outputs": [
    {
     "data": {
      "text/plain": [
       "array([[[ 1,  2,  3],\n",
       "        [ 4,  5,  6],\n",
       "        [ 7,  8,  9]],\n",
       "\n",
       "       [[10, 11, 12],\n",
       "        [13, 14, 15],\n",
       "        [16, 17, 18]]])"
      ]
     },
     "execution_count": 45,
     "metadata": {},
     "output_type": "execute_result"
    }
   ],
   "source": [
    "#buat ndarray\n",
    "a3 = np.array([[[1, 2, 3],\n",
    "                [4, 5, 6],\n",
    "                [7, 8, 9]],\n",
    "               [[10, 11, 12],\n",
    "                [13, 14, 15],\n",
    "                [16, 17, 18]]])\n",
    "\n",
    "#display ndarray\n",
    "a3"
   ]
  },
  {
   "cell_type": "markdown",
   "metadata": {},
   "source": [
    "## 1.2 Shape"
   ]
  },
  {
   "cell_type": "code",
   "execution_count": 15,
   "metadata": {},
   "outputs": [
    {
     "data": {
      "text/plain": [
       "(3,)"
      ]
     },
     "execution_count": 15,
     "metadata": {},
     "output_type": "execute_result"
    }
   ],
   "source": [
    "#cek shape a1\n",
    "a1.shape"
   ]
  },
  {
   "cell_type": "markdown",
   "metadata": {},
   "source": [
    "* hasil \"a1.shape\" adalah (3,). Artinya 3 kolom"
   ]
  },
  {
   "cell_type": "code",
   "execution_count": 14,
   "metadata": {},
   "outputs": [
    {
     "data": {
      "text/plain": [
       "(2, 3)"
      ]
     },
     "execution_count": 14,
     "metadata": {},
     "output_type": "execute_result"
    }
   ],
   "source": [
    "#cek shape a2\n",
    "a2.shape"
   ]
  },
  {
   "cell_type": "markdown",
   "metadata": {},
   "source": [
    "* hasil \"a2.shape\" adalah (2,3). Artinya 2 baris dan 3 kolom"
   ]
  },
  {
   "cell_type": "code",
   "execution_count": 13,
   "metadata": {},
   "outputs": [
    {
     "data": {
      "text/plain": [
       "(2, 3, 3)"
      ]
     },
     "execution_count": 13,
     "metadata": {},
     "output_type": "execute_result"
    }
   ],
   "source": [
    "#cek shape a3\n",
    "a3.shape"
   ]
  },
  {
   "cell_type": "markdown",
   "metadata": {},
   "source": [
    "* hasil \"a3.shape\" adalah (2, 3, 3). Artinya 2 array, 3baris, dan 3 kolom"
   ]
  },
  {
   "cell_type": "markdown",
   "metadata": {},
   "source": [
    "## 1.3 Ndim"
   ]
  },
  {
   "cell_type": "code",
   "execution_count": 12,
   "metadata": {},
   "outputs": [
    {
     "data": {
      "text/plain": [
       "(1, 2, 3)"
      ]
     },
     "execution_count": 12,
     "metadata": {},
     "output_type": "execute_result"
    }
   ],
   "source": [
    "#cek ndim a1,a2,a3\n",
    "a1.ndim, a2.ndim, a3.ndim"
   ]
  },
  {
   "cell_type": "markdown",
   "metadata": {},
   "source": [
    "* a1 = 1 dimensi, karena hanya terdapat satu '[]' di dalam satu array => [x,x,x]\n",
    "* a2 = 2 dimensi, karena terdapat dua '[]' di dalam satu array => [x,x,x],[x,x,x]\n",
    "* a3 = 3 dimensi, karena terdapat tiga '[]' di dalam satu array => [x,x,x],[x,x,x],[x,x,x]"
   ]
  },
  {
   "cell_type": "markdown",
   "metadata": {},
   "source": [
    "## 1.4 Dtype"
   ]
  },
  {
   "cell_type": "code",
   "execution_count": 16,
   "metadata": {},
   "outputs": [
    {
     "data": {
      "text/plain": [
       "(dtype('int32'), dtype('float64'), dtype('int32'))"
      ]
     },
     "execution_count": 16,
     "metadata": {},
     "output_type": "execute_result"
    }
   ],
   "source": [
    "#cek tipe data dari ndarray a1,a2,a3\n",
    "a1.dtype, a2.dtype, a3.dtype"
   ]
  },
  {
   "cell_type": "markdown",
   "metadata": {},
   "source": [
    "## 1.5 Size"
   ]
  },
  {
   "cell_type": "code",
   "execution_count": 16,
   "metadata": {},
   "outputs": [
    {
     "data": {
      "text/plain": [
       "(3, 6, 18)"
      ]
     },
     "execution_count": 16,
     "metadata": {},
     "output_type": "execute_result"
    }
   ],
   "source": [
    "a1.size, a2.size, a3.size"
   ]
  },
  {
   "cell_type": "markdown",
   "metadata": {},
   "source": [
    "* a1 sizenya 3, karena hanya terdiri dari 3 data\n",
    "* a2 sizenya 6, karena hanya terdiri dari 6 data\n",
    "* a3 sizenya 18, karena hanya terdiri dari 18 data"
   ]
  },
  {
   "cell_type": "markdown",
   "metadata": {},
   "source": [
    "## 1.6 Type"
   ]
  },
  {
   "cell_type": "code",
   "execution_count": 18,
   "metadata": {},
   "outputs": [
    {
     "data": {
      "text/plain": [
       "(numpy.ndarray, numpy.ndarray, numpy.ndarray)"
      ]
     },
     "execution_count": 18,
     "metadata": {},
     "output_type": "execute_result"
    }
   ],
   "source": [
    "type(a1), type(a2), type(a3)"
   ]
  },
  {
   "cell_type": "markdown",
   "metadata": {},
   "source": [
    "## 1.7 Buat DataFrame dari Numpy Array (ndarray)"
   ]
  },
  {
   "cell_type": "code",
   "execution_count": 17,
   "metadata": {},
   "outputs": [
    {
     "data": {
      "text/html": [
       "<div>\n",
       "<style scoped>\n",
       "    .dataframe tbody tr th:only-of-type {\n",
       "        vertical-align: middle;\n",
       "    }\n",
       "\n",
       "    .dataframe tbody tr th {\n",
       "        vertical-align: top;\n",
       "    }\n",
       "\n",
       "    .dataframe thead th {\n",
       "        text-align: right;\n",
       "    }\n",
       "</style>\n",
       "<table border=\"1\" class=\"dataframe\">\n",
       "  <thead>\n",
       "    <tr style=\"text-align: right;\">\n",
       "      <th></th>\n",
       "      <th>0</th>\n",
       "      <th>1</th>\n",
       "      <th>2</th>\n",
       "    </tr>\n",
       "  </thead>\n",
       "  <tbody>\n",
       "    <tr>\n",
       "      <th>0</th>\n",
       "      <td>1.0</td>\n",
       "      <td>2.0</td>\n",
       "      <td>3.3</td>\n",
       "    </tr>\n",
       "    <tr>\n",
       "      <th>1</th>\n",
       "      <td>4.0</td>\n",
       "      <td>5.0</td>\n",
       "      <td>6.5</td>\n",
       "    </tr>\n",
       "  </tbody>\n",
       "</table>\n",
       "</div>"
      ],
      "text/plain": [
       "     0    1    2\n",
       "0  1.0  2.0  3.3\n",
       "1  4.0  5.0  6.5"
      ]
     },
     "execution_count": 17,
     "metadata": {},
     "output_type": "execute_result"
    }
   ],
   "source": [
    "#import pandas dulu agar bisa dikombinasikan dengan numpy\n",
    "import pandas as pd\n",
    "\n",
    "#buat dataframe dari ndarray\n",
    "df = pd.DataFrame(a2)\n",
    "\n",
    "#display\n",
    "df"
   ]
  },
  {
   "cell_type": "markdown",
   "metadata": {},
   "source": [
    "## 2. Creating arrays"
   ]
  },
  {
   "cell_type": "code",
   "execution_count": 47,
   "metadata": {},
   "outputs": [
    {
     "name": "stdout",
     "output_type": "stream",
     "text": [
      "sample_array:\n",
      "[1 2 3]\n",
      "\n",
      "\n",
      "ones:\n",
      "[[1. 1. 1.]\n",
      " [1. 1. 1.]]\n",
      "\n",
      "\n",
      "zeros:\n",
      "[[0. 0. 0.]\n",
      " [0. 0. 0.]]\n",
      "\n",
      "\n",
      "range_array:\n",
      "[0 2 4 6 8]\n",
      "\n",
      "\n",
      "random_array:\n",
      "[[0.82845319 0.94180927 0.12814785]\n",
      " [0.23043067 0.6591584  0.13247399]\n",
      " [0.22407864 0.57486259 0.16952372]\n",
      " [0.78223015 0.85697563 0.0336742 ]\n",
      " [0.5326448  0.79695136 0.97513968]]\n",
      "\n",
      "\n",
      "random_array_2:\n",
      "[[0 3 1]\n",
      " [8 1 3]\n",
      " [8 5 6]\n",
      " [0 6 0]\n",
      " [4 0 9]]\n",
      "\n",
      "\n",
      "random_array_3:\n",
      "[[0.07630829 0.77991879 0.43840923]\n",
      " [0.72346518 0.97798951 0.53849587]\n",
      " [0.50112046 0.07205113 0.26843898]\n",
      " [0.4998825  0.67923    0.80373904]\n",
      " [0.38094113 0.06593635 0.2881456 ]]\n",
      "\n",
      "\n",
      "a4:\n",
      "[[[[3 5 8 8 7]\n",
      "   [5 0 0 2 8]\n",
      "   [9 6 4 9 7]\n",
      "   [3 3 8 3 0]]\n",
      "\n",
      "  [[1 0 0 6 7]\n",
      "   [7 9 3 0 7]\n",
      "   [7 7 0 5 4]\n",
      "   [3 1 3 1 3]]\n",
      "\n",
      "  [[4 3 1 9 5]\n",
      "   [9 1 2 3 2]\n",
      "   [2 5 7 3 0]\n",
      "   [9 9 3 4 5]]]\n",
      "\n",
      "\n",
      " [[[3 0 4 8 6]\n",
      "   [7 2 7 3 8]\n",
      "   [6 6 5 6 5]\n",
      "   [7 1 5 4 4]]\n",
      "\n",
      "  [[9 9 0 6 2]\n",
      "   [6 8 2 4 1]\n",
      "   [6 1 5 1 6]\n",
      "   [9 8 6 5 9]]\n",
      "\n",
      "  [[7 5 4 9 6]\n",
      "   [8 1 5 5 8]\n",
      "   [3 7 7 9 4]\n",
      "   [7 5 9 6 2]]]]\n",
      "\n",
      "\n"
     ]
    }
   ],
   "source": [
    "#buat ndarray seperti biasa\n",
    "sample_array = np.array([1, 2, 3])\n",
    "print(\"sample_array:\")\n",
    "print(sample_array)\n",
    "print(\"\")\n",
    "print(\"\")\n",
    "\n",
    "#buat ndarray dengan menggunakan ones => nilai datanya akan bernilai 1\n",
    "ones = np.ones((2, 3))\n",
    "print(\"ones:\")\n",
    "print(ones)\n",
    "print(\"\")\n",
    "print(\"\")\n",
    "\n",
    "#buat ndarray dengan menggunakan zeros => nilai datanya akan bernilai 0\n",
    "zeros = np.zeros((2, 3))\n",
    "print(\"zeros:\")\n",
    "print(zeros)\n",
    "print(\"\")\n",
    "print(\"\")\n",
    "\n",
    "#buat ndarray dengan menggunakan range_array => nilainya kita atur sendiri\n",
    "range_array = np.arange(0, 10, 2) # ==> 0 = nilai awal, 10 = batas nilai, 2 = penambahan nilai\n",
    "print(\"range_array:\")\n",
    "print(range_array)\n",
    "print(\"\")\n",
    "print(\"\")\n",
    "\n",
    "#buat ndarray dengan menggunakan random.random => nilainya random mulai dari 0.0 - 1.0\n",
    "random_array = np.random.random((5, 3)) # ==> 5 = baris dan 3 = kolom\n",
    "print(\"random_array:\")\n",
    "print(random_array)\n",
    "print(\"\")\n",
    "print(\"\")\n",
    "\n",
    "#buat ndarray dengan menggunakan Pseudo-random numbers => nilainya random tp kita atur sendiri\n",
    "np.random.seed(seed=99999)\n",
    "random_array_2 = np.random.randint(10, size=(5, 3)) # ==> 10 = batas nilai, 5 = baris, dan 3 = kolom\n",
    "print(\"random_array_2:\")\n",
    "print(random_array_2)\n",
    "print(\"\")\n",
    "print(\"\")\n",
    "\n",
    "#buat ndarray dengan menggunakan random nilai => nilainya random mulai dari 0.0 - 1.0\n",
    "np.random.seed(7)\n",
    "random_array_3 = np.random.random((5, 3))\n",
    "print(\"random_array_3:\")\n",
    "print(random_array_3)\n",
    "print(\"\")\n",
    "print(\"\")\n",
    "\n",
    "#buat ndarray dengan menggunakan random nilai => nilainya random mulai dari 0.0 - 1.0\n",
    "a4 = np.random.randint(10, size=(2, 3, 4, 5)) # => 2 array, 3 sub array, 4 baris, dan 5 kolom \n",
    "print(\"a4:\")\n",
    "print(a4)\n",
    "print(\"\")\n",
    "print(\"\")"
   ]
  },
  {
   "cell_type": "markdown",
   "metadata": {},
   "source": [
    "## 3. Viewing arrays and matrices"
   ]
  },
  {
   "cell_type": "code",
   "execution_count": 53,
   "metadata": {},
   "outputs": [
    {
     "name": "stdout",
     "output_type": "stream",
     "text": [
      "random_array_3:\n",
      "[[0.07630829 0.77991879 0.43840923]\n",
      " [0.72346518 0.97798951 0.53849587]\n",
      " [0.50112046 0.07205113 0.26843898]\n",
      " [0.4998825  0.67923    0.80373904]\n",
      " [0.38094113 0.06593635 0.2881456 ]]\n",
      "\n",
      "\n",
      "random_array_3_unique:\n",
      "[0.06593635 0.07205113 0.07630829 0.26843898 0.2881456  0.38094113\n",
      " 0.43840923 0.4998825  0.50112046 0.53849587 0.67923    0.72346518\n",
      " 0.77991879 0.80373904 0.97798951]\n",
      "\n",
      "\n",
      "random_array_3, dimensi ke-2:\n",
      "[0.50112046 0.07205113 0.26843898]\n",
      "\n",
      "\n",
      "a4, array ke-1:\n",
      "[[[3 0 4 8 6]\n",
      "  [7 2 7 3 8]\n",
      "  [6 6 5 6 5]\n",
      "  [7 1 5 4 4]]\n",
      "\n",
      " [[9 9 0 6 2]\n",
      "  [6 8 2 4 1]\n",
      "  [6 1 5 1 6]\n",
      "  [9 8 6 5 9]]\n",
      "\n",
      " [[7 5 4 9 6]\n",
      "  [8 1 5 5 8]\n",
      "  [3 7 7 9 4]\n",
      "  [7 5 9 6 2]]]\n",
      "\n",
      "\n",
      "a4, kolom ke-1:\n",
      "[[[[3]\n",
      "   [5]\n",
      "   [9]\n",
      "   [3]]\n",
      "\n",
      "  [[1]\n",
      "   [7]\n",
      "   [7]\n",
      "   [3]]\n",
      "\n",
      "  [[4]\n",
      "   [9]\n",
      "   [2]\n",
      "   [9]]]\n",
      "\n",
      "\n",
      " [[[3]\n",
      "   [7]\n",
      "   [6]\n",
      "   [7]]\n",
      "\n",
      "  [[9]\n",
      "   [6]\n",
      "   [6]\n",
      "   [9]]\n",
      "\n",
      "  [[7]\n",
      "   [8]\n",
      "   [3]\n",
      "   [7]]]]\n",
      "\n",
      "\n"
     ]
    }
   ],
   "source": [
    "#lihat random_array_3\n",
    "print(\"random_array_3:\")\n",
    "print(random_array_3)\n",
    "print(\"\")\n",
    "print(\"\")\n",
    "\n",
    "#melihat random_array_3 dengan urutan kecil ke besar\n",
    "print(\"random_array_3_unique:\")\n",
    "print(np.unique(random_array_3))\n",
    "print(\"\")\n",
    "print(\"\")\n",
    "\n",
    "#melihat nilai random_array_3 berdasarkan index arraynya\n",
    "print(\"random_array_3, dimensi ke-2:\")\n",
    "print(random_array_3[2])\n",
    "print(\"\")\n",
    "print(\"\")\n",
    "\n",
    "#melihat nilai a4 berdasarkan index arraynya\n",
    "print(\"a4, array ke-1:\")\n",
    "print(a4[1])\n",
    "print(\"\")\n",
    "print(\"\")\n",
    "\n",
    "#melihat nilai a4 berdasarkan kolom pertama\n",
    "print(\"a4, kolom ke-1:\")\n",
    "print(a4[:, :, :, :1])\n",
    "print(\"\")\n",
    "print(\"\")"
   ]
  },
  {
   "cell_type": "markdown",
   "metadata": {},
   "source": [
    "## 4. Manipulating & comparing arrays"
   ]
  },
  {
   "cell_type": "markdown",
   "metadata": {},
   "source": [
    "* Note: Aritmatika dapat berjalan apabila\n",
    "1. baris x kolom jumlahnya sama ======> (1x3 dgn 1x3)\n",
    "2. baris x kolom == baris x kolom =====> (3x5 dgn 5x3)\n",
    "\n",
    "* Pembagian antara float dan int, dapat dibulatkan menjadi int menggunakan \"--> // <--\"\n",
    "* Perkalian kuadrat dapat menggunakan fungsi \"square\"\n",
    "* Penjumlahan juga dapat menggunakan fungsi \"add\"\n",
    "* Exponensial dapat menggunakan fungsi \"exp\"\n",
    "* Log dapat menggunakan fungsi \"log\""
   ]
  },
  {
   "cell_type": "markdown",
   "metadata": {},
   "source": [
    "### Arithmetic"
   ]
  },
  {
   "cell_type": "code",
   "execution_count": 65,
   "metadata": {},
   "outputs": [
    {
     "name": "stdout",
     "output_type": "stream",
     "text": [
      "a1: [1 2 3]\n",
      "z1: [1 2 3]\n",
      "hasil: [2 4 6]\n"
     ]
    }
   ],
   "source": [
    "#ambil dan tampilkan data a1 yang diatas telah dideklarasikan\n",
    "print(\"a1:\",a1)\n",
    "\n",
    "#buat variable z1 untuk menduplicate a1\n",
    "z1 = a1\n",
    "print(\"z1:\",z1)\n",
    "\n",
    "#hitung penjumlahan antara a1 dgn z1\n",
    "print(\"hasil:\",a1+z1) # ====> ini dapat berjalan karena 1x3 dgn 1x3 = strukturnya sama"
   ]
  },
  {
   "cell_type": "code",
   "execution_count": 69,
   "metadata": {},
   "outputs": [
    {
     "name": "stdout",
     "output_type": "stream",
     "text": [
      "a1: [1 2 3]\n",
      "\n",
      "\n",
      "a2:\n",
      "[[1.  2.  3.3]\n",
      " [4.  5.  6.5]]\n",
      "\n",
      "\n",
      "hasil:\n",
      "[[2.  4.  6.3]\n",
      " [5.  7.  9.5]]\n"
     ]
    }
   ],
   "source": [
    "#ambil dan tampilkan data a1 yang diatas telah dideklarasikan\n",
    "print(\"a1:\",a1)\n",
    "print(\"\")\n",
    "print(\"\")\n",
    "\n",
    "#ambil dan tampilkan data a2 yang diatas telah dideklarasikan\n",
    "print(\"a2:\")\n",
    "print(a2)\n",
    "print(\"\")\n",
    "print(\"\")\n",
    "\n",
    "#hitung penjumlahan antara a1 dgn a2\n",
    "print(\"hasil:\")\n",
    "print(a1+a2) # ====> ini dapat berjalan karena a1 (1x3) dgn a2 (2x3) = kolomnya sama"
   ]
  },
  {
   "cell_type": "code",
   "execution_count": 80,
   "metadata": {
    "scrolled": true
   },
   "outputs": [
    {
     "name": "stdout",
     "output_type": "stream",
     "text": [
      "a1: [1 2 3]\n",
      "\n",
      "a4:\n",
      "[[[[3 5 8 8 7]\n",
      "   [5 0 0 2 8]\n",
      "   [9 6 4 9 7]\n",
      "   [3 3 8 3 0]]\n",
      "\n",
      "  [[1 0 0 6 7]\n",
      "   [7 9 3 0 7]\n",
      "   [7 7 0 5 4]\n",
      "   [3 1 3 1 3]]\n",
      "\n",
      "  [[4 3 1 9 5]\n",
      "   [9 1 2 3 2]\n",
      "   [2 5 7 3 0]\n",
      "   [9 9 3 4 5]]]\n",
      "\n",
      "\n",
      " [[[3 0 4 8 6]\n",
      "   [7 2 7 3 8]\n",
      "   [6 6 5 6 5]\n",
      "   [7 1 5 4 4]]\n",
      "\n",
      "  [[9 9 0 6 2]\n",
      "   [6 8 2 4 1]\n",
      "   [6 1 5 1 6]\n",
      "   [9 8 6 5 9]]\n",
      "\n",
      "  [[7 5 4 9 6]\n",
      "   [8 1 5 5 8]\n",
      "   [3 7 7 9 4]\n",
      "   [7 5 9 6 2]]]]\n",
      "\n",
      "\n",
      "hasil:\n"
     ]
    },
    {
     "ename": "ValueError",
     "evalue": "operands could not be broadcast together with shapes (3,) (2,3,4,5) ",
     "output_type": "error",
     "traceback": [
      "\u001b[1;31m---------------------------------------------------------------------------\u001b[0m",
      "\u001b[1;31mValueError\u001b[0m                                Traceback (most recent call last)",
      "\u001b[1;32mC:\\Users\\PROFSL~1\\AppData\\Local\\Temp/ipykernel_12024/1247500670.py\u001b[0m in \u001b[0;36m<module>\u001b[1;34m\u001b[0m\n\u001b[0;32m     11\u001b[0m \u001b[1;31m#hitung penjumlahan antara a1 dgn a4\u001b[0m\u001b[1;33m\u001b[0m\u001b[1;33m\u001b[0m\u001b[0m\n\u001b[0;32m     12\u001b[0m \u001b[0mprint\u001b[0m\u001b[1;33m(\u001b[0m\u001b[1;34m\"hasil:\"\u001b[0m\u001b[1;33m)\u001b[0m\u001b[1;33m\u001b[0m\u001b[1;33m\u001b[0m\u001b[0m\n\u001b[1;32m---> 13\u001b[1;33m \u001b[0mprint\u001b[0m\u001b[1;33m(\u001b[0m\u001b[0ma1\u001b[0m\u001b[1;33m+\u001b[0m\u001b[0ma4\u001b[0m\u001b[1;33m)\u001b[0m \u001b[1;31m# ====> ini dapat berjalan karena a1 (1x3) dgn a4 (2x3x4x5) = kolomnya sama\u001b[0m\u001b[1;33m\u001b[0m\u001b[1;33m\u001b[0m\u001b[0m\n\u001b[0m",
      "\u001b[1;31mValueError\u001b[0m: operands could not be broadcast together with shapes (3,) (2,3,4,5) "
     ]
    }
   ],
   "source": [
    "#ambil dan tampilkan data a1 yang diatas telah dideklarasikan\n",
    "print(\"a1:\",a1)\n",
    "print(\"\")\n",
    "\n",
    "#ambil dan tampilkan data a4 yang diatas telah dideklarasikan\n",
    "print(\"a4:\")\n",
    "print(a4)\n",
    "print(\"\")\n",
    "print(\"\")\n",
    "\n",
    "#hitung penjumlahan antara a1 dgn a4\n",
    "print(\"hasil:\")\n",
    "print(a1+a4) # ====> ini dapat berjalan karena a1 (1x3) dgn a4 (2x3x4x5) = kolomnya sama"
   ]
  },
  {
   "cell_type": "code",
   "execution_count": 79,
   "metadata": {
    "scrolled": true
   },
   "outputs": [
    {
     "name": "stdout",
     "output_type": "stream",
     "text": [
      "a1: [1 2 3]\n",
      "\n",
      "a2:\n",
      "[[1.  2.  3.3]\n",
      " [4.  5.  6.5]]\n",
      "\n",
      "\n",
      "hasil:\n",
      "[[1. 1. 1.]\n",
      " [4. 2. 2.]]\n"
     ]
    }
   ],
   "source": [
    "#ambil dan tampilkan data a1 yang diatas telah dideklarasikan\n",
    "print(\"a1:\",a1)\n",
    "print(\"\")\n",
    "\n",
    "#ambil dan tampilkan data a2 yang diatas telah dideklarasikan\n",
    "print(\"a2:\")\n",
    "print(a2)\n",
    "print(\"\")\n",
    "print(\"\")\n",
    "\n",
    "#hitung pembagian dgn menggunakan // antara a2 dgn a1 ==> agar jadi integer\n",
    "print(\"hasil:\")\n",
    "print(a2//a1) # ====> ini dapat berjalan karena a1 (1x3) dgn a2 (1x3) = kolomnya sama"
   ]
  },
  {
   "cell_type": "code",
   "execution_count": 78,
   "metadata": {
    "scrolled": true
   },
   "outputs": [
    {
     "name": "stdout",
     "output_type": "stream",
     "text": [
      "a2:\n",
      "[[1.  2.  3.3]\n",
      " [4.  5.  6.5]]\n",
      "\n",
      "\n",
      "a2 x 2:\n",
      "[[ 1.    4.   10.89]\n",
      " [16.   25.   42.25]]\n",
      "\n",
      "\n",
      "a2 x 2:\n",
      "[[ 1.    4.   10.89]\n",
      " [16.   25.   42.25]]\n"
     ]
    }
   ],
   "source": [
    "#ambil dan tampilkan data a2 yang diatas telah dideklarasikan\n",
    "print(\"a2:\")\n",
    "print(a2)\n",
    "print(\"\")\n",
    "print(\"\")\n",
    "\n",
    "#perkalian kuadrat (opsi 1)\n",
    "print(\"a2 x 2:\")\n",
    "print(a2**2)\n",
    "print(\"\")\n",
    "print(\"\")\n",
    "\n",
    "#perkalian kuadrat (opsi 2)\n",
    "print(\"a2 x 2:\")\n",
    "print(np.square(a2))"
   ]
  },
  {
   "cell_type": "code",
   "execution_count": 88,
   "metadata": {},
   "outputs": [
    {
     "name": "stdout",
     "output_type": "stream",
     "text": [
      "a1:\n",
      "[1 2 3]\n",
      "\n",
      "\n",
      "a1 + 1:\n",
      "[[2. 3. 4.]\n",
      " [2. 3. 4.]]\n"
     ]
    }
   ],
   "source": [
    "#ambil dan tampilkan data a1 yang diatas telah dideklarasikan\n",
    "print(\"a1:\")\n",
    "print(a1)\n",
    "print(\"\")\n",
    "print(\"\")\n",
    "\n",
    "#tambah dengan 1\n",
    "print(\"a1 + 1:\")\n",
    "print(np.add(a1, ones)) # ===> add merupakan fungsi tambah"
   ]
  },
  {
   "cell_type": "code",
   "execution_count": 90,
   "metadata": {},
   "outputs": [
    {
     "name": "stdout",
     "output_type": "stream",
     "text": [
      "a1:\n",
      "[1 2 3]\n",
      "\n",
      "\n",
      "exp a1:\n",
      "[ 2.71828183  7.3890561  20.08553692]\n"
     ]
    }
   ],
   "source": [
    "#ambil dan tampilkan data a1 yang diatas telah dideklarasikan\n",
    "print(\"a1:\")\n",
    "print(a1)\n",
    "print(\"\")\n",
    "print(\"\")\n",
    "\n",
    "#tambah dengan 1\n",
    "print(\"exp a1:\")\n",
    "print(np.exp(a1)) # ===> exp merupakan fungsi exponensial"
   ]
  },
  {
   "cell_type": "code",
   "execution_count": 91,
   "metadata": {},
   "outputs": [
    {
     "name": "stdout",
     "output_type": "stream",
     "text": [
      "a1:\n",
      "[1 2 3]\n",
      "\n",
      "\n",
      "log a1:\n",
      "[0.         0.69314718 1.09861229]\n"
     ]
    }
   ],
   "source": [
    "#ambil dan tampilkan data a1 yang diatas telah dideklarasikan\n",
    "print(\"a1:\")\n",
    "print(a1)\n",
    "print(\"\")\n",
    "print(\"\")\n",
    "\n",
    "#tambah dengan 1\n",
    "print(\"log a1:\")\n",
    "print(np.log(a1)) # ===> log merupakan fungsi log"
   ]
  },
  {
   "cell_type": "markdown",
   "metadata": {},
   "source": [
    "### Aggregation \n",
    "\n",
    "Aggregation = performing the same operation on a number of things\n",
    "* Agregasi = melakukan operasi yang sama pada sejumlah hal"
   ]
  },
  {
   "cell_type": "code",
   "execution_count": 104,
   "metadata": {},
   "outputs": [
    {
     "name": "stdout",
     "output_type": "stream",
     "text": [
      "listy_list:\n",
      "[1, 2, 3]\n",
      "\n",
      "\n",
      "jumlah nilai listy_list:\n",
      "6\n",
      "\n",
      "\n",
      "jumlah nilai a1 (ops1):\n",
      "6\n",
      "\n",
      "\n",
      "jumlah nilai a1 (ops2):\n",
      "6\n",
      "\n",
      "\n",
      "mean a1:\n",
      "2.0\n",
      "\n",
      "\n",
      "max a1:\n",
      "3\n",
      "\n",
      "\n",
      "min a1:\n",
      "1\n",
      "\n",
      "\n"
     ]
    }
   ],
   "source": [
    "#buat data array\n",
    "listy_list = [1, 2, 3]\n",
    "print(\"listy_list:\")\n",
    "print(listy_list)\n",
    "print(\"\")\n",
    "print(\"\")\n",
    "\n",
    "#cek tipe data\n",
    "type(listy_list)\n",
    "\n",
    "#jumlahkan seluruh nilai yang ada di array\n",
    "print(\"jumlah nilai listy_list:\")\n",
    "print(sum(listy_list))\n",
    "print(\"\")\n",
    "print(\"\")\n",
    "\n",
    "#jumlahkan seluruh nilai a1 (opsi 1)\n",
    "print(\"jumlah nilai a1 (ops1):\")\n",
    "print(sum(a1))\n",
    "print(\"\")\n",
    "print(\"\")\n",
    "\n",
    "#jumlahkan seluruh nilai a1 (opsi 1)\n",
    "print(\"jumlah nilai a1 (ops2):\")\n",
    "print(np.sum(a1))\n",
    "print(\"\")\n",
    "print(\"\")\n",
    "\n",
    "#mean a1\n",
    "print(\"mean a1:\")\n",
    "print(np.mean(a1))\n",
    "print(\"\")\n",
    "print(\"\")\n",
    "\n",
    "#max a1\n",
    "print(\"max a1:\")\n",
    "print(np.max(a1))\n",
    "print(\"\")\n",
    "print(\"\")\n",
    "\n",
    "#min a1\n",
    "print(\"min a1:\")\n",
    "print(np.min(a1))\n",
    "print(\"\")\n",
    "print(\"\")"
   ]
  },
  {
   "cell_type": "markdown",
   "metadata": {},
   "source": [
    "Use Python's methods (`sum()`) on Python datatypes and use NumPy's methods on NumPy arrays (`np.sum()`). "
   ]
  },
  {
   "cell_type": "code",
   "execution_count": 100,
   "metadata": {},
   "outputs": [
    {
     "name": "stdout",
     "output_type": "stream",
     "text": [
      "9.19 ms ± 692 µs per loop (mean ± std. dev. of 7 runs, 100 loops each)\n",
      "53.6 µs ± 1.06 µs per loop (mean ± std. dev. of 7 runs, 10000 loops each)\n"
     ]
    }
   ],
   "source": [
    "#Buat data random array\n",
    "massive_array = np.random.random(100000)\n",
    "massive_array.size\n",
    "massive_array[:10]\n",
    "\n",
    "#hitung perbedaan setiap fungsi\n",
    "%timeit sum(massive_array) # Python's sum()\n",
    "%timeit np.sum(massive_array) # NumPy's np.sum()"
   ]
  },
  {
   "cell_type": "markdown",
   "metadata": {},
   "source": [
    "**Standar deviasi** dan **variance ** adalah ukuran 'penyebaran' data.\n",
    "\n",
    "Standar deviasi yang lebih tinggi dan varians data yang lebih tinggi, maka akan semakin banyak penyebaran nilainya.\n",
    "\n",
    "Standar deviasi yang lebih rendah dan varians yang lebih rendah, maka akan semakin sedikit penyebaran nilai-nilainya."
   ]
  },
  {
   "cell_type": "code",
   "execution_count": 106,
   "metadata": {},
   "outputs": [
    {
     "data": {
      "text/plain": [
       "1.8226964152656422"
      ]
     },
     "execution_count": 106,
     "metadata": {},
     "output_type": "execute_result"
    }
   ],
   "source": [
    "#Standar deviasi = ukuran seberapa menyebar sekelompok angka dari suatu nilai rata-rata\n",
    "np.std(a2)"
   ]
  },
  {
   "cell_type": "code",
   "execution_count": 107,
   "metadata": {
    "scrolled": true
   },
   "outputs": [
    {
     "data": {
      "text/plain": [
       "3.3222222222222224"
      ]
     },
     "execution_count": 107,
     "metadata": {},
     "output_type": "execute_result"
    }
   ],
   "source": [
    "#Varians = ukuran tingkat rata-rata yang setiap angkanya berbeda dengan nilai rata-rata\n",
    "#Varians yang lebih tinggi = maka rentang angka yang lebih luas\n",
    "#Varians yang lebih rendah = maka rentang angka yang lebih rendah\n",
    "np.var(a2)"
   ]
  },
  {
   "cell_type": "code",
   "execution_count": 210,
   "metadata": {},
   "outputs": [
    {
     "data": {
      "text/plain": [
       "1.8226964152656422"
      ]
     },
     "execution_count": 210,
     "metadata": {},
     "output_type": "execute_result"
    }
   ],
   "source": [
    "#Standar deviasi = akar kuadrat dari varians\n",
    "np.sqrt(np.var(a2))"
   ]
  },
  {
   "cell_type": "code",
   "execution_count": 108,
   "metadata": {},
   "outputs": [],
   "source": [
    "#Contoh std dan var\n",
    "high_var_array = np.array([1, 100, 200, 300, 4000, 5000])\n",
    "low_var_array = np.array([2, 4, 6, 8, 10])"
   ]
  },
  {
   "cell_type": "code",
   "execution_count": 109,
   "metadata": {},
   "outputs": [
    {
     "data": {
      "text/plain": [
       "(4296133.472222221, 8.0)"
      ]
     },
     "execution_count": 109,
     "metadata": {},
     "output_type": "execute_result"
    }
   ],
   "source": [
    "np.var(high_var_array), np.var(low_var_array)"
   ]
  },
  {
   "cell_type": "code",
   "execution_count": 110,
   "metadata": {},
   "outputs": [
    {
     "data": {
      "text/plain": [
       "(2072.711623024829, 2.8284271247461903)"
      ]
     },
     "execution_count": 110,
     "metadata": {},
     "output_type": "execute_result"
    }
   ],
   "source": [
    "np.std(high_var_array), np.std(low_var_array)"
   ]
  },
  {
   "cell_type": "code",
   "execution_count": 111,
   "metadata": {},
   "outputs": [
    {
     "data": {
      "text/plain": [
       "(1600.1666666666667, 6.0)"
      ]
     },
     "execution_count": 111,
     "metadata": {},
     "output_type": "execute_result"
    }
   ],
   "source": [
    "np.mean(high_var_array), np.mean(low_var_array)"
   ]
  },
  {
   "cell_type": "code",
   "execution_count": 112,
   "metadata": {},
   "outputs": [
    {
     "data": {
      "image/png": "[encoded data removed]",
      "text/plain": [
       "<Figure size 432x288 with 1 Axes>"
      ]
     },
     "metadata": {
      "needs_background": "light"
     },
     "output_type": "display_data"
    }
   ],
   "source": [
    "%matplotlib inline\n",
    "import matplotlib.pyplot as plt\n",
    "plt.hist(high_var_array)\n",
    "plt.show()"
   ]
  },
  {
   "cell_type": "code",
   "execution_count": 113,
   "metadata": {},
   "outputs": [
    {
     "data": {
      "image/png": "[encoded data removed]",
      "text/plain": [
       "<Figure size 432x288 with 1 Axes>"
      ]
     },
     "metadata": {
      "needs_background": "light"
     },
     "output_type": "display_data"
    }
   ],
   "source": [
    "plt.hist(low_var_array)\n",
    "plt.show()"
   ]
  },
  {
   "cell_type": "markdown",
   "metadata": {},
   "source": [
    "### Reshaping & transposing\n",
    "1. reshape dapat merubah bentuk seperti yang kita inginkan\n",
    "2. transpose hanya menukar baris dengan kolom"
   ]
  },
  {
   "cell_type": "code",
   "execution_count": 114,
   "metadata": {
    "scrolled": true
   },
   "outputs": [
    {
     "ename": "ValueError",
     "evalue": "operands could not be broadcast together with shapes (2,3) (2,3,3) ",
     "output_type": "error",
     "traceback": [
      "\u001b[1;31m---------------------------------------------------------------------------\u001b[0m",
      "\u001b[1;31mValueError\u001b[0m                                Traceback (most recent call last)",
      "\u001b[1;32mC:\\Users\\PROFSL~1\\AppData\\Local\\Temp/ipykernel_12024/1195146429.py\u001b[0m in \u001b[0;36m<module>\u001b[1;34m\u001b[0m\n\u001b[0;32m      1\u001b[0m \u001b[1;31m#buat perkalian\u001b[0m\u001b[1;33m\u001b[0m\u001b[1;33m\u001b[0m\u001b[0m\n\u001b[1;32m----> 2\u001b[1;33m \u001b[0ma2\u001b[0m \u001b[1;33m*\u001b[0m \u001b[0ma3\u001b[0m\u001b[1;33m\u001b[0m\u001b[1;33m\u001b[0m\u001b[0m\n\u001b[0m",
      "\u001b[1;31mValueError\u001b[0m: operands could not be broadcast together with shapes (2,3) (2,3,3) "
     ]
    }
   ],
   "source": [
    "#buat perkalian\n",
    "a2 * a3"
   ]
  },
  {
   "cell_type": "markdown",
   "metadata": {},
   "source": [
    "perkalian di atas gagal karena jumlah baris dan kolomnya tidak sesuai dengan standarisasi perhitungan"
   ]
  },
  {
   "cell_type": "code",
   "execution_count": 116,
   "metadata": {},
   "outputs": [
    {
     "data": {
      "text/plain": [
       "array([[[1. ],\n",
       "        [2. ],\n",
       "        [3.3]],\n",
       "\n",
       "       [[4. ],\n",
       "        [5. ],\n",
       "        [6.5]]])"
      ]
     },
     "execution_count": 116,
     "metadata": {},
     "output_type": "execute_result"
    }
   ],
   "source": [
    "#maka a2 perlu direshape(diubah)\n",
    "a2_reshape = a2.reshape(2, 3, 1)\n",
    "a2_reshape"
   ]
  },
  {
   "cell_type": "code",
   "execution_count": 117,
   "metadata": {},
   "outputs": [
    {
     "data": {
      "text/plain": [
       "array([[[  1. ,   2. ,   3. ],\n",
       "        [  8. ,  10. ,  12. ],\n",
       "        [ 23.1,  26.4,  29.7]],\n",
       "\n",
       "       [[ 40. ,  44. ,  48. ],\n",
       "        [ 65. ,  70. ,  75. ],\n",
       "        [104. , 110.5, 117. ]]])"
      ]
     },
     "execution_count": 117,
     "metadata": {},
     "output_type": "execute_result"
    }
   ],
   "source": [
    "#buat perkalian kembali\n",
    "a2_reshape * a3"
   ]
  },
  {
   "cell_type": "code",
   "execution_count": 118,
   "metadata": {},
   "outputs": [
    {
     "name": "stdout",
     "output_type": "stream",
     "text": [
      "a2:\n",
      "[[1.  2.  3.3]\n",
      " [4.  5.  6.5]]\n",
      "\n",
      "\n",
      "a2 transpose:\n",
      "[[1.  4. ]\n",
      " [2.  5. ]\n",
      " [3.3 6.5]]\n"
     ]
    }
   ],
   "source": [
    "#display a2\n",
    "print(\"a2:\")\n",
    "print(a2)\n",
    "print(\"\")\n",
    "print(\"\")\n",
    "\n",
    "#transpose a2\n",
    "print(\"a2 transpose:\")\n",
    "print(a2.T)"
   ]
  },
  {
   "cell_type": "markdown",
   "metadata": {},
   "source": [
    "## Dot product "
   ]
  },
  {
   "cell_type": "code",
   "execution_count": 119,
   "metadata": {},
   "outputs": [
    {
     "name": "stdout",
     "output_type": "stream",
     "text": [
      "mat1:\n",
      "[[5 0 3]\n",
      " [3 7 9]\n",
      " [3 5 2]\n",
      " [4 7 6]\n",
      " [8 8 1]]\n",
      "\n",
      "\n",
      "mat2:\n",
      "[[6 7 7]\n",
      " [8 1 5]\n",
      " [9 8 9]\n",
      " [4 3 0]\n",
      " [3 5 0]]\n"
     ]
    }
   ],
   "source": [
    "#buat angka acak\n",
    "np.random.seed(0)\n",
    "\n",
    "#buat var mat1 dan mat2\n",
    "mat1 = np.random.randint(10, size=(5, 3))\n",
    "mat2 = np.random.randint(10, size=(5, 3))\n",
    "\n",
    "#cetak\n",
    "print(\"mat1:\")\n",
    "print(mat1)\n",
    "print(\"\")\n",
    "print(\"\")\n",
    "print(\"mat2:\")\n",
    "print(mat2)"
   ]
  },
  {
   "cell_type": "code",
   "execution_count": 259,
   "metadata": {},
   "outputs": [
    {
     "data": {
      "text/plain": [
       "array([[30,  0, 21],\n",
       "       [24,  7, 45],\n",
       "       [27, 40, 18],\n",
       "       [16, 21,  0],\n",
       "       [24, 40,  0]])"
      ]
     },
     "execution_count": 259,
     "metadata": {},
     "output_type": "execute_result"
    }
   ],
   "source": [
    "# Element-wise multiplication (Hadamard product)\n",
    "mat1 * mat2"
   ]
  },
  {
   "cell_type": "code",
   "execution_count": 120,
   "metadata": {},
   "outputs": [
    {
     "ename": "ValueError",
     "evalue": "shapes (5,3) and (5,3) not aligned: 3 (dim 1) != 5 (dim 0)",
     "output_type": "error",
     "traceback": [
      "\u001b[1;31m---------------------------------------------------------------------------\u001b[0m",
      "\u001b[1;31mValueError\u001b[0m                                Traceback (most recent call last)",
      "\u001b[1;32mC:\\Users\\PROFSL~1\\AppData\\Local\\Temp/ipykernel_12024/3612046841.py\u001b[0m in \u001b[0;36m<module>\u001b[1;34m\u001b[0m\n\u001b[0;32m      1\u001b[0m \u001b[1;31m# Dot product\u001b[0m\u001b[1;33m\u001b[0m\u001b[1;33m\u001b[0m\u001b[0m\n\u001b[1;32m----> 2\u001b[1;33m \u001b[0mnp\u001b[0m\u001b[1;33m.\u001b[0m\u001b[0mdot\u001b[0m\u001b[1;33m(\u001b[0m\u001b[0mmat1\u001b[0m\u001b[1;33m,\u001b[0m \u001b[0mmat2\u001b[0m\u001b[1;33m)\u001b[0m \u001b[1;31m# ==> ini akan error karena strukturnya tidak memenuhi standar\u001b[0m\u001b[1;33m\u001b[0m\u001b[1;33m\u001b[0m\u001b[0m\n\u001b[0m",
      "\u001b[1;32m<__array_function__ internals>\u001b[0m in \u001b[0;36mdot\u001b[1;34m(*args, **kwargs)\u001b[0m\n",
      "\u001b[1;31mValueError\u001b[0m: shapes (5,3) and (5,3) not aligned: 3 (dim 1) != 5 (dim 0)"
     ]
    }
   ],
   "source": [
    "# Dot product\n",
    "np.dot(mat1, mat2) # ==> ini akan error karena strukturnya tidak memenuhi standar"
   ]
  },
  {
   "cell_type": "code",
   "execution_count": 121,
   "metadata": {},
   "outputs": [
    {
     "data": {
      "text/plain": [
       "array([[ 51,  55,  72,  20,  15],\n",
       "       [130,  76, 164,  33,  44],\n",
       "       [ 67,  39,  85,  27,  34],\n",
       "       [115,  69, 146,  37,  47],\n",
       "       [111,  77, 145,  56,  64]])"
      ]
     },
     "execution_count": 121,
     "metadata": {},
     "output_type": "execute_result"
    }
   ],
   "source": [
    "#transpose mat2 agar bisa dikalikan\n",
    "mat3 = np.dot(mat1, mat2.T)\n",
    "mat3"
   ]
  },
  {
   "cell_type": "markdown",
   "metadata": {},
   "source": [
    "### Dot product example (nut butter sales)"
   ]
  },
  {
   "cell_type": "code",
   "execution_count": 130,
   "metadata": {},
   "outputs": [
    {
     "name": "stdout",
     "output_type": "stream",
     "text": [
      "Harga:\n",
      "       Almond butter  Peanut butter  Cashew butter\n",
      "Price             10              8             12\n",
      "\n",
      "\n",
      "Total Penjualan/minggu:\n",
      "       Almond butter  Peanut butter  Cashew butter  Total ($)\n",
      "Mon               12             15              0        240\n",
      "Tues               3              3              7        138\n",
      "Wed                9             19             18        458\n",
      "Thurs              4              6             12        232\n",
      "Fri                1              6              7        142\n",
      "\n",
      "\n"
     ]
    }
   ],
   "source": [
    "#buat angka acak\n",
    "np.random.seed(0)\n",
    "\n",
    "#buat data penjualan\n",
    "sales_amounts = np.random.randint(20, size=(5,3))\n",
    "\n",
    "# buat dataframe weekly_sales\n",
    "weekly_sales = pd.DataFrame(sales_amounts,\n",
    "                            index=[\"Mon\", \"Tues\", \"Wed\", \"Thurs\", \"Fri\"],\n",
    "                            columns=[\"Almond butter\", \"Peanut butter\", \"Cashew butter\"])\n",
    "\n",
    "#buat data array harga\n",
    "prices = np.array([10, 8, 12])\n",
    "\n",
    "#buat data frame butter_prices\n",
    "butter_prices = pd.DataFrame(prices.reshape(1, 3),\n",
    "                             index=[\"Price\"],\n",
    "                             columns=[\"Almond butter\", \"Peanut butter\", \"Cashew butter\"])\n",
    "butter_prices\n",
    "\n",
    "#buat data total penjualan\n",
    "total_sales = prices.dot(sales_amounts.T) # ==> ini harus di transpose karena kalo tidak, akan error\n",
    "total_sales\n",
    "\n",
    "#buat data penjualan per hari\n",
    "daily_sales = butter_prices.dot(weekly_sales.T) # ==> ini juga harus di transpose\n",
    "\n",
    "#buat data total penjualan per minggu\n",
    "weekly_sales[\"Total ($)\"] = daily_sales.T\n",
    "\n",
    "#display\n",
    "print(\"Harga:\")\n",
    "print(butter_prices)\n",
    "print(\"\")\n",
    "print(\"\")\n",
    "\n",
    "print(\"Total Penjualan/minggu:\")\n",
    "print(weekly_sales)\n",
    "print(\"\")\n",
    "print(\"\")"
   ]
  },
  {
   "cell_type": "markdown",
   "metadata": {},
   "source": [
    "### Comparison Operators "
   ]
  },
  {
   "cell_type": "code",
   "execution_count": 295,
   "metadata": {},
   "outputs": [
    {
     "data": {
      "text/plain": [
       "array([1, 2, 3])"
      ]
     },
     "execution_count": 295,
     "metadata": {},
     "output_type": "execute_result"
    }
   ],
   "source": [
    "a1"
   ]
  },
  {
   "cell_type": "code",
   "execution_count": 296,
   "metadata": {},
   "outputs": [
    {
     "data": {
      "text/plain": [
       "array([[1. , 2. , 3.3],\n",
       "       [4. , 5. , 6.5]])"
      ]
     },
     "execution_count": 296,
     "metadata": {},
     "output_type": "execute_result"
    }
   ],
   "source": [
    "a2"
   ]
  },
  {
   "cell_type": "code",
   "execution_count": 297,
   "metadata": {},
   "outputs": [
    {
     "data": {
      "text/plain": [
       "array([[False, False, False],\n",
       "       [False, False, False]])"
      ]
     },
     "execution_count": 297,
     "metadata": {},
     "output_type": "execute_result"
    }
   ],
   "source": [
    "a1 > a2"
   ]
  },
  {
   "cell_type": "code",
   "execution_count": 299,
   "metadata": {},
   "outputs": [
    {
     "data": {
      "text/plain": [
       "array([[ True,  True, False],\n",
       "       [False, False, False]])"
      ]
     },
     "execution_count": 299,
     "metadata": {},
     "output_type": "execute_result"
    }
   ],
   "source": [
    "bool_array = a1 >= a2\n",
    "bool_array"
   ]
  },
  {
   "cell_type": "code",
   "execution_count": 301,
   "metadata": {},
   "outputs": [
    {
     "data": {
      "text/plain": [
       "(numpy.ndarray, dtype('bool'))"
      ]
     },
     "execution_count": 301,
     "metadata": {},
     "output_type": "execute_result"
    }
   ],
   "source": [
    "type(bool_array), bool_array.dtype"
   ]
  },
  {
   "cell_type": "code",
   "execution_count": 302,
   "metadata": {},
   "outputs": [
    {
     "data": {
      "text/plain": [
       "array([False, False, False])"
      ]
     },
     "execution_count": 302,
     "metadata": {},
     "output_type": "execute_result"
    }
   ],
   "source": [
    "a1 > 5"
   ]
  },
  {
   "cell_type": "code",
   "execution_count": 303,
   "metadata": {},
   "outputs": [
    {
     "data": {
      "text/plain": [
       "array([ True,  True,  True])"
      ]
     },
     "execution_count": 303,
     "metadata": {},
     "output_type": "execute_result"
    }
   ],
   "source": [
    "a1 < 5"
   ]
  },
  {
   "cell_type": "code",
   "execution_count": 304,
   "metadata": {},
   "outputs": [
    {
     "data": {
      "text/plain": [
       "array([ True,  True,  True])"
      ]
     },
     "execution_count": 304,
     "metadata": {},
     "output_type": "execute_result"
    }
   ],
   "source": [
    "a1 == a1 "
   ]
  },
  {
   "cell_type": "code",
   "execution_count": 306,
   "metadata": {},
   "outputs": [
    {
     "data": {
      "text/plain": [
       "array([1, 2, 3])"
      ]
     },
     "execution_count": 306,
     "metadata": {},
     "output_type": "execute_result"
    }
   ],
   "source": [
    "a1"
   ]
  },
  {
   "cell_type": "code",
   "execution_count": 307,
   "metadata": {},
   "outputs": [
    {
     "data": {
      "text/plain": [
       "array([[1. , 2. , 3.3],\n",
       "       [4. , 5. , 6.5]])"
      ]
     },
     "execution_count": 307,
     "metadata": {},
     "output_type": "execute_result"
    }
   ],
   "source": [
    "a2"
   ]
  },
  {
   "cell_type": "code",
   "execution_count": 305,
   "metadata": {},
   "outputs": [
    {
     "data": {
      "text/plain": [
       "array([[ True,  True, False],\n",
       "       [False, False, False]])"
      ]
     },
     "execution_count": 305,
     "metadata": {},
     "output_type": "execute_result"
    }
   ],
   "source": [
    "a1 == a2"
   ]
  },
  {
   "cell_type": "markdown",
   "metadata": {},
   "source": [
    "## 5. Sorting arrays"
   ]
  },
  {
   "cell_type": "code",
   "execution_count": 135,
   "metadata": {},
   "outputs": [
    {
     "data": {
      "text/plain": [
       "array([[7, 2, 0, 0, 4],\n",
       "       [5, 5, 6, 8, 4],\n",
       "       [1, 4, 9, 8, 1]])"
      ]
     },
     "execution_count": 135,
     "metadata": {},
     "output_type": "execute_result"
    }
   ],
   "source": [
    "#buat array\n",
    "random_array = np.random.randint(10, size=(3, 5))\n",
    "random_array"
   ]
  },
  {
   "cell_type": "code",
   "execution_count": 133,
   "metadata": {},
   "outputs": [
    {
     "data": {
      "text/plain": [
       "array([[1, 5, 7, 8, 9],\n",
       "       [0, 3, 4, 8, 9],\n",
       "       [0, 2, 3, 3, 5]])"
      ]
     },
     "execution_count": 133,
     "metadata": {},
     "output_type": "execute_result"
    }
   ],
   "source": [
    "#mengurutkan berdasarkan per baris\n",
    "np.sort(random_array)"
   ]
  },
  {
   "cell_type": "code",
   "execution_count": 136,
   "metadata": {},
   "outputs": [
    {
     "data": {
      "text/plain": [
       "array([[2, 3, 1, 4, 0],\n",
       "       [4, 0, 1, 2, 3],\n",
       "       [0, 4, 1, 3, 2]], dtype=int64)"
      ]
     },
     "execution_count": 136,
     "metadata": {},
     "output_type": "execute_result"
    }
   ],
   "source": [
    "np.argsort(random_array)"
   ]
  },
  {
   "cell_type": "code",
   "execution_count": 315,
   "metadata": {},
   "outputs": [
    {
     "data": {
      "text/plain": [
       "array([1, 2, 3])"
      ]
     },
     "execution_count": 315,
     "metadata": {},
     "output_type": "execute_result"
    }
   ],
   "source": [
    "a1"
   ]
  },
  {
   "cell_type": "code",
   "execution_count": 137,
   "metadata": {},
   "outputs": [
    {
     "data": {
      "text/plain": [
       "array([0, 1, 2], dtype=int64)"
      ]
     },
     "execution_count": 137,
     "metadata": {},
     "output_type": "execute_result"
    }
   ],
   "source": [
    "#nilai array akan dikurang 1\n",
    "np.argsort(a1)"
   ]
  },
  {
   "cell_type": "code",
   "execution_count": 138,
   "metadata": {},
   "outputs": [
    {
     "data": {
      "text/plain": [
       "0"
      ]
     },
     "execution_count": 138,
     "metadata": {},
     "output_type": "execute_result"
    }
   ],
   "source": [
    "#nilai array terkecil\n",
    "np.argmin(a1)"
   ]
  },
  {
   "cell_type": "code",
   "execution_count": 139,
   "metadata": {},
   "outputs": [
    {
     "data": {
      "text/plain": [
       "2"
      ]
     },
     "execution_count": 139,
     "metadata": {},
     "output_type": "execute_result"
    }
   ],
   "source": [
    "#nilai array terbesar\n",
    "np.argmax(a1)"
   ]
  },
  {
   "cell_type": "code",
   "execution_count": 140,
   "metadata": {},
   "outputs": [
    {
     "data": {
      "text/plain": [
       "array([[7, 2, 0, 0, 4],\n",
       "       [5, 5, 6, 8, 4],\n",
       "       [1, 4, 9, 8, 1]])"
      ]
     },
     "execution_count": 140,
     "metadata": {},
     "output_type": "execute_result"
    }
   ],
   "source": [
    "random_array"
   ]
  },
  {
   "cell_type": "code",
   "execution_count": 141,
   "metadata": {},
   "outputs": [
    {
     "data": {
      "text/plain": [
       "array([0, 1, 2, 1, 0], dtype=int64)"
      ]
     },
     "execution_count": 141,
     "metadata": {},
     "output_type": "execute_result"
    }
   ],
   "source": [
    "np.argmax(random_array, axis=0)"
   ]
  },
  {
   "cell_type": "code",
   "execution_count": 142,
   "metadata": {},
   "outputs": [
    {
     "data": {
      "text/plain": [
       "array([0, 3, 2], dtype=int64)"
      ]
     },
     "execution_count": 142,
     "metadata": {},
     "output_type": "execute_result"
    }
   ],
   "source": [
    "np.argmax(random_array, axis=1)"
   ]
  },
  {
   "cell_type": "markdown",
   "metadata": {},
   "source": [
    "## 6. Practical Example - NumPy in Action!!!!"
   ]
  },
  {
   "cell_type": "markdown",
   "metadata": {},
   "source": [
    "<img src=\"images/panda.png\"/>"
   ]
  },
  {
   "cell_type": "code",
   "execution_count": 143,
   "metadata": {},
   "outputs": [
    {
     "name": "stdout",
     "output_type": "stream",
     "text": [
      "<class 'numpy.ndarray'>\n"
     ]
    }
   ],
   "source": [
    "#Buat image menjadi array\n",
    "from matplotlib.image import imread\n",
    "\n",
    "panda = imread(\"images/panda.png\")\n",
    "print(type(panda))"
   ]
  },
  {
   "cell_type": "code",
   "execution_count": 144,
   "metadata": {},
   "outputs": [
    {
     "data": {
      "text/plain": [
       "(24465000, (2330, 3500, 3), 3)"
      ]
     },
     "execution_count": 144,
     "metadata": {},
     "output_type": "execute_result"
    }
   ],
   "source": [
    "#cek size,shape,ndim\n",
    "panda.size, panda.shape, panda.ndim"
   ]
  },
  {
   "cell_type": "code",
   "execution_count": 145,
   "metadata": {},
   "outputs": [
    {
     "data": {
      "text/plain": [
       "array([[[0.05490196, 0.10588235, 0.06666667],\n",
       "        [0.05490196, 0.10588235, 0.06666667],\n",
       "        [0.05490196, 0.10588235, 0.06666667],\n",
       "        ...,\n",
       "        [0.16470589, 0.12941177, 0.09411765],\n",
       "        [0.16470589, 0.12941177, 0.09411765],\n",
       "        [0.16470589, 0.12941177, 0.09411765]],\n",
       "\n",
       "       [[0.05490196, 0.10588235, 0.06666667],\n",
       "        [0.05490196, 0.10588235, 0.06666667],\n",
       "        [0.05490196, 0.10588235, 0.06666667],\n",
       "        ...,\n",
       "        [0.16470589, 0.12941177, 0.09411765],\n",
       "        [0.16470589, 0.12941177, 0.09411765],\n",
       "        [0.16470589, 0.12941177, 0.09411765]],\n",
       "\n",
       "       [[0.05490196, 0.10588235, 0.06666667],\n",
       "        [0.05490196, 0.10588235, 0.06666667],\n",
       "        [0.05490196, 0.10588235, 0.06666667],\n",
       "        ...,\n",
       "        [0.16470589, 0.12941177, 0.09411765],\n",
       "        [0.16470589, 0.12941177, 0.09411765],\n",
       "        [0.16470589, 0.12941177, 0.09411765]],\n",
       "\n",
       "       [[0.05490196, 0.10588235, 0.06666667],\n",
       "        [0.05490196, 0.10588235, 0.06666667],\n",
       "        [0.05490196, 0.10588235, 0.06666667],\n",
       "        ...,\n",
       "        [0.16862746, 0.13333334, 0.09803922],\n",
       "        [0.16862746, 0.13333334, 0.09803922],\n",
       "        [0.16862746, 0.13333334, 0.09803922]],\n",
       "\n",
       "       [[0.05490196, 0.10588235, 0.06666667],\n",
       "        [0.05490196, 0.10588235, 0.06666667],\n",
       "        [0.05490196, 0.10588235, 0.06666667],\n",
       "        ...,\n",
       "        [0.16862746, 0.13333334, 0.09803922],\n",
       "        [0.16862746, 0.13333334, 0.09803922],\n",
       "        [0.16862746, 0.13333334, 0.09803922]]], dtype=float32)"
      ]
     },
     "execution_count": 145,
     "metadata": {},
     "output_type": "execute_result"
    }
   ],
   "source": [
    "#tampilkan data array dari gambar sebanyak 5 array\n",
    "panda[:5]"
   ]
  },
  {
   "cell_type": "markdown",
   "metadata": {},
   "source": [
    "<img src=\"images/car-photo.png\"/>"
   ]
  },
  {
   "cell_type": "code",
   "execution_count": 146,
   "metadata": {},
   "outputs": [
    {
     "name": "stdout",
     "output_type": "stream",
     "text": [
      "<class 'numpy.ndarray'>\n"
     ]
    }
   ],
   "source": [
    "car = imread(\"images/car-photo.png\")\n",
    "print(type(car))"
   ]
  },
  {
   "cell_type": "code",
   "execution_count": 147,
   "metadata": {},
   "outputs": [
    {
     "data": {
      "text/plain": [
       "array([[[0.5019608 , 0.50980395, 0.4862745 , 1.        ],\n",
       "        [0.3372549 , 0.34509805, 0.30588236, 1.        ],\n",
       "        [0.20392157, 0.21568628, 0.14901961, 1.        ],\n",
       "        ...,\n",
       "        [0.64705884, 0.7058824 , 0.54901963, 1.        ],\n",
       "        [0.59607846, 0.63529414, 0.45882353, 1.        ],\n",
       "        [0.44705883, 0.47058824, 0.3372549 , 1.        ]]], dtype=float32)"
      ]
     },
     "execution_count": 147,
     "metadata": {},
     "output_type": "execute_result"
    }
   ],
   "source": [
    "#tampilkan data array ke 1 dari gambar\n",
    "car[:1]"
   ]
  },
  {
   "cell_type": "markdown",
   "metadata": {},
   "source": [
    "<img src=\"images/dog-photo.png\"/>"
   ]
  },
  {
   "cell_type": "code",
   "execution_count": 153,
   "metadata": {},
   "outputs": [
    {
     "name": "stdout",
     "output_type": "stream",
     "text": [
      "<class 'numpy.ndarray'>\n"
     ]
    }
   ],
   "source": [
    "dog = imread(\"images/dog-photo.png\")\n",
    "print(type(dog))"
   ]
  },
  {
   "cell_type": "code",
   "execution_count": 152,
   "metadata": {},
   "outputs": [
    {
     "data": {
      "text/plain": [
       "array([[[0.70980394, 0.80784315, 0.88235295, 1.        ],\n",
       "        [0.72156864, 0.8117647 , 0.8862745 , 1.        ],\n",
       "        [0.7411765 , 0.8156863 , 0.8862745 , 1.        ],\n",
       "        ...,\n",
       "        [0.49803922, 0.6862745 , 0.8392157 , 1.        ],\n",
       "        [0.49411765, 0.68235296, 0.8392157 , 1.        ],\n",
       "        [0.49411765, 0.68235296, 0.8352941 , 1.        ]],\n",
       "\n",
       "       [[0.69411767, 0.8039216 , 0.8862745 , 1.        ],\n",
       "        [0.7019608 , 0.8039216 , 0.88235295, 1.        ],\n",
       "        [0.7058824 , 0.80784315, 0.88235295, 1.        ],\n",
       "        ...,\n",
       "        [0.5019608 , 0.6862745 , 0.84705883, 1.        ],\n",
       "        [0.49411765, 0.68235296, 0.84313726, 1.        ],\n",
       "        [0.49411765, 0.68235296, 0.8392157 , 1.        ]],\n",
       "\n",
       "       [[0.6901961 , 0.8       , 0.88235295, 1.        ],\n",
       "        [0.69803923, 0.8039216 , 0.88235295, 1.        ],\n",
       "        [0.7058824 , 0.80784315, 0.88235295, 1.        ],\n",
       "        ...,\n",
       "        [0.5019608 , 0.6862745 , 0.84705883, 1.        ],\n",
       "        [0.49803922, 0.6862745 , 0.84313726, 1.        ],\n",
       "        [0.49803922, 0.6862745 , 0.84313726, 1.        ]],\n",
       "\n",
       "       ...,\n",
       "\n",
       "       [[0.9098039 , 0.81960785, 0.654902  , 1.        ],\n",
       "        [0.8352941 , 0.7490196 , 0.6509804 , 1.        ],\n",
       "        [0.72156864, 0.6313726 , 0.5372549 , 1.        ],\n",
       "        ...,\n",
       "        [0.01568628, 0.07058824, 0.02352941, 1.        ],\n",
       "        [0.03921569, 0.09411765, 0.03529412, 1.        ],\n",
       "        [0.03921569, 0.09019608, 0.05490196, 1.        ]],\n",
       "\n",
       "       [[0.9137255 , 0.83137256, 0.6784314 , 1.        ],\n",
       "        [0.8117647 , 0.7294118 , 0.627451  , 1.        ],\n",
       "        [0.65882355, 0.5686275 , 0.47843137, 1.        ],\n",
       "        ...,\n",
       "        [0.00392157, 0.05490196, 0.03529412, 1.        ],\n",
       "        [0.03137255, 0.09019608, 0.05490196, 1.        ],\n",
       "        [0.04705882, 0.10588235, 0.06666667, 1.        ]],\n",
       "\n",
       "       [[0.9137255 , 0.83137256, 0.68235296, 1.        ],\n",
       "        [0.76862746, 0.68235296, 0.5882353 , 1.        ],\n",
       "        [0.59607846, 0.5058824 , 0.44313726, 1.        ],\n",
       "        ...,\n",
       "        [0.03921569, 0.10196079, 0.07058824, 1.        ],\n",
       "        [0.02745098, 0.08235294, 0.05882353, 1.        ],\n",
       "        [0.05098039, 0.11372549, 0.07058824, 1.        ]]], dtype=float32)"
      ]
     },
     "execution_count": 152,
     "metadata": {},
     "output_type": "execute_result"
    }
   ],
   "source": [
    "#tampilkan data keseluruhan array dari gambar\n",
    "dog"
   ]
  },
  {
   "cell_type": "code",
   "execution_count": null,
   "metadata": {},
   "outputs": [],
   "source": []
  }
 ],
 "metadata": {
  "kernelspec": {
   "display_name": "Python 3 (ipykernel)",
   "language": "python",
   "name": "python3"
  },
  "language_info": {
   "codemirror_mode": {
    "name": "ipython",
    "version": 3
   },
   "file_extension": ".py",
   "mimetype": "text/x-python",
   "name": "python",
   "nbconvert_exporter": "python",
   "pygments_lexer": "ipython3",
   "version": "3.9.7"
  }
 },
 "nbformat": 4,
 "nbformat_minor": 2
}
